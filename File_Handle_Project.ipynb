{
 "cells": [
  {
   "cell_type": "code",
   "execution_count": 125,
   "id": "56025d32-74c5-4fed-a416-b0f4a6fb5fe7",
   "metadata": {
    "tags": []
   },
   "outputs": [],
   "source": [
    "#Q1\n",
    "\n",
    "#Setting up environment for project by loading required packages and modules \n",
    "#For handling raw data files: os\n",
    "import os\n",
    "#For working with JSON files: json\n",
    "import json\n",
    "#For working with CSV files: csv\n",
    "import csv\n",
    "import pandas as pd\n",
    "#For pretty-printing Python data structures: pprint\n",
    "import pprint"
   ]
  },
  {
   "cell_type": "code",
   "execution_count": null,
   "id": "fc62cced-c524-41e1-9bb8-4f77c8bdfd83",
   "metadata": {},
   "outputs": [],
   "source": [
    "#Imported the required packages."
   ]
  },
  {
   "cell_type": "code",
   "execution_count": 128,
   "id": "4c1f8d06-b9b0-4588-b51c-977fbeadf55c",
   "metadata": {
    "tags": []
   },
   "outputs": [],
   "source": [
    "#Q2\n",
    "\n",
    "#Loading the data using a function named load_data() to read data from the: \n",
    "#sales_data.csv file, \n",
    "#JSON files in the product_details folder, and \n",
    "#TXT files in the product_description folder and store them in three dictionaries called: \n",
    "#sales_data, product_details and product_desctiptions.\n",
    "\n",
    "def load_data(main_folder):\n",
    "    \n",
    "    # Load data from extracted files\n",
    "    sales_data = {}\n",
    "    product_details = {}\n",
    "    product_descriptions = {}\n",
    "\n",
    "    # Load sales data from CSV file\n",
    "    csv_file_path = os.path.join(main_folder, 'sales_data.csv') # \"/content/mainfolder/sales_data.csv\"\n",
    "    with open(csv_file_path, 'r') as csv_file:\n",
    "        csv_reader = csv.DictReader(csv_file)\n",
    "        for row in csv_reader:\n",
    "            sku = row['Product_SKU']\n",
    "            quantities = [int(quantity) for quantity in list(row.values())[1:]] # Skip the first value (SKU) and convert the rest\n",
    "            sales_data[sku] = quantities\n",
    "\n",
    "    # Load product details from JSON files\n",
    "    details_dir = os.path.join(main_folder, 'product_details')\n",
    "    for filename in sorted(os.listdir(details_dir)):\n",
    "          json_file_path = os.path.join(details_dir, filename)\n",
    "          # print(\"json_file_path: \",json_file_path)\n",
    "          with open(json_file_path, 'r') as json_file:\n",
    "            sku = filename.split('.')[0]\n",
    "            # print(\"sku: \",sku)\n",
    "            product_details[sku] = json.load(json_file)\n",
    "\n",
    "    # Load product descriptions from TXT files\n",
    "    descriptions_dir = os.path.join(main_folder, 'product_descriptions')\n",
    "    for filename in sorted(os.listdir(descriptions_dir)):\n",
    "        txt_file_path = os.path.join(descriptions_dir, filename)\n",
    "        with open(txt_file_path, 'r') as txt_file:\n",
    "            sku = filename.split('.')[0]\n",
    "            product_descriptions[sku] = txt_file.read()\n",
    "\n",
    "    return product_details, sales_data, product_descriptions"
   ]
  },
  {
   "cell_type": "code",
   "execution_count": null,
   "id": "5f84a62a-49b7-4aa3-80ab-66416721ccd3",
   "metadata": {
    "tags": []
   },
   "outputs": [],
   "source": [
    "main_folder_address = '/content/mainfolder'\n",
    "product_details, sales_data, product_descriptions = load_data(main_folder_address)"
   ]
  },
  {
   "cell_type": "code",
   "execution_count": null,
   "id": "f3e8e15d-5ca4-473d-b71c-a2c1fabbe4d5",
   "metadata": {
    "tags": []
   },
   "outputs": [],
   "source": [
    "#Q3\n",
    "\n",
    "#Display sales_data, product_details, and product_descriptions dictionaries."
   ]
  },
  {
   "cell_type": "code",
   "execution_count": null,
   "id": "cb37d5d8-e898-457c-afa7-02d480ac9712",
   "metadata": {},
   "outputs": [],
   "source": [
    "print(\"Sales Data: \")\n",
    "sales_data"
   ]
  },
  {
   "cell_type": "code",
   "execution_count": null,
   "id": "59754582-b79c-42fe-868b-2baad52e8887",
   "metadata": {},
   "outputs": [],
   "source": [
    "print(\"\\nProduct Details:\")\n",
    "product_details"
   ]
  },
  {
   "cell_type": "code",
   "execution_count": null,
   "id": "18418c15-088a-4944-8e60-262e3bd4fdd1",
   "metadata": {},
   "outputs": [],
   "source": [
    "print(\"\\nProduct Descriptions:\")\n",
    "product_descriptions"
   ]
  },
  {
   "cell_type": "code",
   "execution_count": null,
   "id": "4c2649d1-358d-4d1b-b5aa-c370763debcc",
   "metadata": {},
   "outputs": [],
   "source": [
    "#Create a list named product_skus which contains product SKUs extracted from one of the dictionaries using dict.keys().\n",
    "#Display sales data, product details, and product description of a product using the product_skus list."
   ]
  },
  {
   "cell_type": "code",
   "execution_count": null,
   "id": "418232b5-152b-4023-8fc4-a32e1703fa63",
   "metadata": {},
   "outputs": [],
   "source": [
    "product_skus = list(product_details.keys())\n",
    "product_skus"
   ]
  },
  {
   "cell_type": "code",
   "execution_count": null,
   "id": "256e6ce8-be50-4b6f-ab3f-c49e9c9dfcf3",
   "metadata": {},
   "outputs": [],
   "source": [
    "sales_data[product_skus[0]]"
   ]
  },
  {
   "cell_type": "code",
   "execution_count": null,
   "id": "b7bc6d9c-f741-4162-9115-7b884f49ca98",
   "metadata": {},
   "outputs": [],
   "source": [
    "product_details[product_skus[0]]"
   ]
  },
  {
   "cell_type": "code",
   "execution_count": null,
   "id": "61aa1479-2b85-4f14-8103-c7be42608169",
   "metadata": {},
   "outputs": [],
   "source": [
    "product_descriptions[product_skus[0]]"
   ]
  },
  {
   "cell_type": "code",
   "execution_count": null,
   "id": "9a0e6b51-d5b6-4ac5-a798-73188ea75fdd",
   "metadata": {},
   "outputs": [],
   "source": [
    "#Find the length of sales_data, product_details, and product_descriptions dictionaries.\n",
    "print(\"Length of sales_data:\", len(sales_data))\n",
    "print(\"Length of product_details:\", len(product_details))\n",
    "print(\"Length of product_descriptions:\", len(product_descriptions))"
   ]
  },
  {
   "cell_type": "code",
   "execution_count": null,
   "id": "3c36ab56-9549-4b26-9efa-759c1c68642d",
   "metadata": {},
   "outputs": [],
   "source": [
    "#Q4\n",
    "\n",
    "#Use a function named add_sales_data() to add sales data for Acer Aspire 3, which has the following sales data:\n",
    "\n",
    "\"\"\"\n",
    "Product SKU: TYS56KFJW93NJ\n",
    "Sales data for the past 14 days:  [0, 0, 0, 0, 0, 0, 0, 0, 0, 0, 0, 0, 0, 0]\n",
    "Product name: Laptop\n",
    "Brand: Acer\n",
    "Model: Acer Aspire 3\n",
    "Specifications: Intel Core i3 N305 Laptop (Windows 11 Home/8 GB/512 GB SSD) A314-36M, 35.56 cm (14\") Full HD Display, 1.4 KG, Pure Silver\n",
    "Price: INR 32,999.00\n",
    "Availability: In stock\n",
    "Product Description: The Aspire 3 is ready to go with the latest Intel® Core™ i3 N-Series Processors1 with UHD Graphics—ideal for the entire family, with performance and productivity at the core. Perfect to get more out of work, study, or play.\n",
    "\"\"\""
   ]
  },
  {
   "cell_type": "code",
   "execution_count": null,
   "id": "911927e6-d616-45fb-aab0-7a63332e4908",
   "metadata": {},
   "outputs": [],
   "source": [
    "def add_sales_data(sales_data, sku, quantities):\n",
    "    \n",
    "    # Add the new SKU and its corresponding quantities to the sales_data dictionary\n",
    "    sales_data[sku] = quantities\n",
    "\n",
    "    # Return the updated sales_data dictionary\n",
    "    return sales_data"
   ]
  },
  {
   "cell_type": "code",
   "execution_count": null,
   "id": "c5ee13be-8c68-48aa-8eaa-5a7b8ab04b68",
   "metadata": {},
   "outputs": [],
   "source": [
    "#Q 4.1\n",
    "\n",
    "# New SKU and its quantities to add\n",
    "new_sku = 'TYS56KFJW93NJ'\n",
    "new_quantities = [0, 0, 0, 0, 0, 0, 0, 0, 0, 0, 0, 0, 0, 0]\n",
    "\n",
    "# Add the new SKU and its quantities to the sales_data dictionary\n",
    "sales_data = add_sales_data(sales_data, new_sku, new_quantities)\n",
    "\n",
    "# Print the updated sales_data dictionary\n",
    "sales_data"
   ]
  },
  {
   "cell_type": "code",
   "execution_count": null,
   "id": "5eabec05-b560-4207-a899-8c92419c3e0b",
   "metadata": {},
   "outputs": [],
   "source": [
    "#Q 4.2\n",
    "\n",
    "def add_product_details(product_details, sku, product_info):\n",
    "    \n",
    "    # Add the new SKU and its quantities to the product_details dictionary    \n",
    "    product_details[sku] = product_info\n",
    "    \n",
    "    # Return the updated product_details dictionary\n",
    "    return product_details"
   ]
  },
  {
   "cell_type": "code",
   "execution_count": null,
   "id": "f638219a-4228-497b-bb64-6e5d77d3f25d",
   "metadata": {},
   "outputs": [],
   "source": [
    "product_details = add_product_details(product_details,\n",
    "                                      'TYS56KFJW93NJ',\n",
    "                                      {'product_name': 'Laptop',\n",
    "                                       'brand': 'Acer',\n",
    "                                       'model': 'Acer Aspire 3',\n",
    "                                       'specifications': 'Intel Core i3 N305 Laptop (Windows 11 Home/8 GB/512 GB SSD) A314-36M, 35.56 cm (14\") Full HD Display, 1.4 KG, Pure Silver',\n",
    "                                      'price': 'INR 32,999.00',\n",
    "                                      'availability': 'In stock'})\n",
    "product_details"
   ]
  },
  {
   "cell_type": "code",
   "execution_count": null,
   "id": "98f0a33b-5cea-41fc-a88d-5b486b56143a",
   "metadata": {},
   "outputs": [],
   "source": [
    "#Q 4.3\n",
    "\n",
    "def add_product_description(product_descriptions, sku, description):\n",
    "    \n",
    "    # Add the new SKU and its quantities to the product_descriptions dictionary\n",
    "    product_descriptions[sku] = descriptions\n",
    "    \n",
    "    # Return the updated product_descriptions dictionary\n",
    "    return product_descriptions"
   ]
  },
  {
   "cell_type": "code",
   "execution_count": null,
   "id": "5f0369f4-1c68-464d-aa5b-f26b2a9fdd60",
   "metadata": {},
   "outputs": [],
   "source": [
    "product_descriptions = add_product_details(product_descriptions,\n",
    "                                     'TYS56KFJW93NJ',\n",
    "                                     'The Aspire 3 is ready to go with the latest Intel® Core™ i3 N-Series Processors1 with UHD Graphics—ideal for the entire family, with performance and productivity at the core. Perfect to get more out of work, study, or play.')\n",
    "product_descriptions"
   ]
  },
  {
   "cell_type": "code",
   "execution_count": null,
   "id": "395f6f3e-5511-4749-bd5c-8095b8490c57",
   "metadata": {},
   "outputs": [],
   "source": [
    "#Q 4.4\n",
    "#Use a function named create() that calls the functions defined in 1, 2, and 3 to add product details, sales data, and product descriptions for the Acer Aspire 3 laptop at once."
   ]
  },
  {
   "cell_type": "code",
   "execution_count": null,
   "id": "17cad87c-44b2-448c-9519-0778814dde17",
   "metadata": {},
   "outputs": [],
   "source": [
    "def create(sales_data, product_details product_descriptions):\n",
    "    \n",
    "    sku = input('Enter the product SKU: ')\n",
    "    if len(sku) != 13:\n",
    "        print('Invalid SKU. The SKU must be exactly 13 characters long.')\n",
    "        return product_details, sales_data, product_descriptions\n",
    "\n",
    "    sales_input = input('Enter sales data for the last 14 days, separated by space: ')\n",
    "    sales_quantities = sales_input.split()\n",
    "    if not (len(sales_quantities) == 14 and all(x.isdigit() for x in sales_quantities)):\n",
    "        print('Invalid sales data. Please ensure you enter exactly 14 integers.')\n",
    "        return product_details, sales_data, product_descriptions\n",
    "    sales_quantities = [int(x) for x in sales_quantities]\n",
    "\n",
    "    product_name = input('Enter the product name: ')\n",
    "    brand = input('Enter the brand: ')\n",
    "    model = input('Enter the model: ')\n",
    "    specifications = input('Enter the specifications: ')\n",
    "    price = input('Enter the price: ')\n",
    "    availability = input('Enter the availability: ')\n",
    "    product_info = {\n",
    "        'product_name': product_name,\n",
    "        'brand': brand,\n",
    "        'model': model,\n",
    "        'specifications': specifications,\n",
    "        'price': price,\n",
    "        'availability': availability\n",
    "    }\n",
    "\n",
    "    description = input('Enter the product description: ')\n",
    "\n",
    "    # Assuming all inputs are now valid, call the functions to add the data\n",
    "    sales_data = add_sales_data(sales_data, sku, sales_quantities)\n",
    "    product_details = add_product_details(product_details, sku, product_info)\n",
    "    product_descriptions = add_product_description(product_descriptions, sku, description)\n",
    "\n",
    "    # Print a single success message after all data has been successfully added\n",
    "    print('All product information for the new product was added successfully!')\n",
    "\n",
    "    return sales_data, product_details product_descriptions"
   ]
  },
  {
   "cell_type": "code",
   "execution_count": null,
   "id": "94296062-ceaa-4edb-92cc-4f319427583e",
   "metadata": {},
   "outputs": [],
   "source": [
    "sales_data, product_details product_descriptions = create(sales_data, product_details product_descriptions):"
   ]
  },
  {
   "cell_type": "code",
   "execution_count": null,
   "id": "16afaf7a-e38c-4748-9fef-37bd66fa2fa3",
   "metadata": {},
   "outputs": [],
   "source": [
    "#Q 5\n",
    "#Define a function named display_sales_data() that displays sales data for a product with a given SKU."
   ]
  },
  {
   "cell_type": "code",
   "execution_count": null,
   "id": "0be3a65e-1721-41fa-ab32-02924b9244e0",
   "metadata": {},
   "outputs": [],
   "source": [
    "#Display Sales Data\n",
    "\n",
    "def display_sales_data(sales_data, sku):\n",
    "    \"\"\"\n",
    "    Display sales data for a product with a given SKU.\n",
    "\n",
    "    Parameters:\n",
    "        sales_data (dict): The dictionary containing sales data.\n",
    "        sku (str): The product SKU.\n",
    "\n",
    "    Returns:\n",
    "        None\n",
    "    \"\"\"\n",
    "    print(f\"Sales data for SKU {sku}:\")\n",
    "    pprint.pprint(sales_data.get(sku, 'Product sku not found in sales data'))"
   ]
  },
  {
   "cell_type": "code",
   "execution_count": null,
   "id": "b83aa1db-5ecd-4731-b315-8cba80be6aca",
   "metadata": {},
   "outputs": [],
   "source": [
    "display_sales_data(sales_data, 'TYS56KFJW93NJ')"
   ]
  },
  {
   "cell_type": "code",
   "execution_count": null,
   "id": "e2aa71be-aa0e-4f47-8780-5e68998cc3f7",
   "metadata": {},
   "outputs": [],
   "source": [
    "#Display Product Details\n",
    "\n",
    "def display_product_details(product_details, sku):\n",
    "    \"\"\"\n",
    "    Display product details for a product with a given SKU.\n",
    "\n",
    "    Parameters:\n",
    "        product_details (dict): The dictionary containing product details.\n",
    "        sku (str): The product SKU.\n",
    "\n",
    "    Returns:\n",
    "        None\n",
    "    \"\"\"\n",
    "    print(f\"Product details for SKU {sku}:\")\n",
    "    pprint.pprint(product_details.get(sku, 'Product sku not found in product details'))"
   ]
  },
  {
   "cell_type": "code",
   "execution_count": null,
   "id": "dbc67795-6728-4df1-a766-ae9cfe9a84fa",
   "metadata": {},
   "outputs": [],
   "source": [
    "display_product_details(product_details, 'TYS56KFJW93NJ')"
   ]
  },
  {
   "cell_type": "code",
   "execution_count": null,
   "id": "e5db923f-65dc-469e-8863-11996d52ba32",
   "metadata": {},
   "outputs": [],
   "source": [
    "#Display Product Descriptions\n",
    "\n",
    "def display_product_descriptions(product_descriptions, sku):\n",
    "    \"\"\"\n",
    "    Display product description for a product with a given SKU.\n",
    "\n",
    "    Parameters:\n",
    "        product_descriptions (dict): The dictionary containing product descriptions.\n",
    "        sku (str): The product SKU.\n",
    "\n",
    "    Returns:\n",
    "        None\n",
    "    \"\"\"\n",
    "    print(f\"Product description for SKU {sku}:\")\n",
    "    pprint.pprint(product_descriptions.get(sku, 'Product sku not found in product descriptions'))"
   ]
  },
  {
   "cell_type": "code",
   "execution_count": null,
   "id": "afe12808-c9aa-4c2c-b84d-346f3c042baa",
   "metadata": {},
   "outputs": [],
   "source": [
    "display_product_descriptions(product_descriptions,'TYS56KFJW93NJ')"
   ]
  },
  {
   "cell_type": "code",
   "execution_count": null,
   "id": "c01d4bd2-3d43-4ea1-8f1f-76da64651bf8",
   "metadata": {},
   "outputs": [],
   "source": [
    "#Use a function named read() that calls the functions defined in 1, 2, and 3 to display sales data, product details, and product descriptions for Acer Aspire 3 at once."
   ]
  },
  {
   "cell_type": "code",
   "execution_count": null,
   "id": "33fc3a6c-b5e1-4666-a90e-4c1ff1818059",
   "metadata": {},
   "outputs": [],
   "source": [
    "def read(product_details, sales_data, product_descriptions):\n",
    "  sku = input('Enter the product SKU: ')\n",
    "  if sku not in sales_data and sku not in product_descriptions and sku not in product_details:\n",
    "    print('Product sku not found in data')\n",
    "    return\n",
    "\n",
    "    display_sales_data (sales_data, sku)\n",
    "    display_product_details (product_details, sku)\n",
    "    display_product_descriptions (product_descriptions, sku)\n",
    "    \n",
    "  read(product_details, sales_data, product_descriptions)"
   ]
  },
  {
   "cell_type": "code",
   "execution_count": null,
   "id": "e2013c50-fe88-484b-a2c5-25ffeb2fd139",
   "metadata": {},
   "outputs": [],
   "source": [
    "#Q 6\n",
    "#Use a function named update_sales_data() to update sales data for Acer Aspire 3"
   ]
  },
  {
   "cell_type": "code",
   "execution_count": null,
   "id": "ea62ef8f-a4a6-4126-b85c-d8f5c23982fc",
   "metadata": {},
   "outputs": [],
   "source": [
    "def update_sales_data(sales_data, sku, quantities):\n",
    "    \n",
    "    sales_data[sku] = quantities\n",
    "    return sales_data"
   ]
  },
  {
   "cell_type": "code",
   "execution_count": null,
   "id": "daf407d8-968c-4e16-8ad4-4d827be4d594",
   "metadata": {},
   "outputs": [],
   "source": [
    "sales_data = update_sales_data(sales_data, 'TYS56KFJW93NJ', [1, 5, 8, 0, 24, 2, 3, 4, 5, 6, 7, 7, 6, 5, 4, 3, 2, 1])\n",
    "sales_data"
   ]
  },
  {
   "cell_type": "code",
   "execution_count": null,
   "id": "c8dbcdb2-6c7f-4d57-b54a-795d2ba2ad57",
   "metadata": {},
   "outputs": [],
   "source": [
    "#Use a function named update_product_details() to update product details for Acer Aspire 3."
   ]
  },
  {
   "cell_type": "code",
   "execution_count": null,
   "id": "960dc807-1cb2-47f6-a476-4ac781ccbee7",
   "metadata": {},
   "outputs": [],
   "source": [
    "def update_product_details(product_details, sku, updated_details):\n",
    "    \n",
    "    product_details[sku] = updated_details\n",
    "    return product_details"
   ]
  },
  {
   "cell_type": "code",
   "execution_count": null,
   "id": "17a11a25-dd04-46e9-ac5c-eb93b441a02b",
   "metadata": {},
   "outputs": [],
   "source": [
    "product_details = update_product_details(product_details,\n",
    "                                         'TYS56KFJW93NJ',\n",
    "                                          {'availability': 'No',\n",
    "                                           'brand': 'Acer',\n",
    "                                           'model': 'Acer Aspire 3',\n",
    "                                           'price': 'INR 30,999.00',\n",
    "                                           'product_name': 'Laptop',\n",
    "                                           'specifications': 'Intel Core i3 N305 Laptop (Windows 11 Home/8 GB/512 GB SSD) A314-36M, 35.56 cm (14\") Full HD Display, 1.4 KG, Pure Silver'})\n",
    "product_details"
   ]
  },
  {
   "cell_type": "code",
   "execution_count": null,
   "id": "88389ae4-9628-4cdd-adf0-4b5f7e32605b",
   "metadata": {},
   "outputs": [],
   "source": [
    "#Use a function named update_product_descriptions() to update the product description for Acer Aspire 3."
   ]
  },
  {
   "cell_type": "code",
   "execution_count": null,
   "id": "7f9b273d-ac94-46e3-bf9c-1b197069780c",
   "metadata": {},
   "outputs": [],
   "source": [
    "def update_product_descriptions(product_descriptions, sku, updated_descriptions):\n",
    "    \n",
    "    product_descriptions[sku] = updated_descriptions\n",
    "    return product_descriptions"
   ]
  },
  {
   "cell_type": "code",
   "execution_count": null,
   "id": "a24481e6-d93d-4907-adbe-e5a228330bbf",
   "metadata": {},
   "outputs": [],
   "source": [
    "product_descriptions= update_product_descriptions(product_descriptions, 'TYS56KFJW93NJ', \"The Aspire 3 is ready to go with the latest Intel® Core™ i5 N-Series Processors1 with UHD+ Graphics—ideal for the entire family, with performance and productivity at the core. Perfect to get more out of work, study, or play.\")\n",
    "product_descriptions"
   ]
  },
  {
   "cell_type": "code",
   "execution_count": null,
   "id": "c0129be6-07ea-4959-add8-950b51166d29",
   "metadata": {},
   "outputs": [],
   "source": [
    "#Use a function named update() that calls the functions defined in 1, 2, and 3 to update sales data, product details, and product descriptions for Acer Aspire 3 at once."
   ]
  },
  {
   "cell_type": "code",
   "execution_count": null,
   "id": "5ef69892-f93a-4310-bab5-c1bd937f3ce8",
   "metadata": {},
   "outputs": [],
   "source": [
    "def update(product_details, sales_data, product_descriptions):\n",
    "    \n",
    "    sku = input('Enter the product SKU to update: ')\n",
    "\n",
    "    # Validate SKU existence\n",
    "    if sku not in product_details:\n",
    "        print(f\"Product SKU '{sku}' not found.\")\n",
    "        return product_details, sales_data, product_descriptions\n",
    "\n",
    "    while True:\n",
    "        print('Select the data you want to update:')\n",
    "        print('1. Sales data')\n",
    "        print('2. Product details')\n",
    "        print('3. Product description')\n",
    "        print('4. Exit')\n",
    "\n",
    "        choice = input('Enter your choice (1-4): ')\n",
    "\n",
    "        if choice == '1':\n",
    "            # Validate and input sales data\n",
    "            quantities = input('Enter updated quantities for all days (space-separated): ').split()\n",
    "            if len(quantities) != 14:\n",
    "                print('Please enter quantities for all 14 days.')\n",
    "                continue\n",
    "            quantities = [int(qty) for qty in quantities]\n",
    "            update_sales_data(sales_data, sku, quantities)\n",
    "            print('The sales data is updated successfully!')\n",
    "        elif choice == '2':\n",
    "            # Validate and input product details\n",
    "            updated_product_details = {}\n",
    "            updated_product_details['product_name'] = input('Enter the updated product name: ')\n",
    "            updated_product_details['brand'] = input('Enter the updated brand: ')\n",
    "            updated_product_details['model'] = input('Enter the updated model: ')\n",
    "            updated_product_details['specifications'] = input('Enter the updated specifications: ')\n",
    "            updated_product_details['price'] = input('Enter the updated price: ')\n",
    "            updated_product_details['availability'] = input('Enter the updated availability: ')\n",
    "            update_product_details(product_details, sku, updated_product_details)\n",
    "            print('The product details are updated successfully!')\n",
    "        elif choice == '3':\n",
    "            # Validate and input product description\n",
    "            updated_description = input('Enter the updated product description: ')\n",
    "            update_product_descriptions(product_descriptions, sku, updated_descriptions)\n",
    "            print('The product description is updated successfully!')\n",
    "        elif choice == '4':\n",
    "            print('Exiting...')\n",
    "            break\n",
    "        else:\n",
    "            print('Invalid choice. Please enter a number between 1 and 4.')\n",
    "\n",
    "    return product_details, sales_data, product_descriptions"
   ]
  },
  {
   "cell_type": "code",
   "execution_count": null,
   "id": "26b26615-c914-434a-9f53-47fece4bdede",
   "metadata": {},
   "outputs": [],
   "source": [
    "product_details, sales_data, product_descriptions = update(product_details, sales_data, product_descriptions)"
   ]
  },
  {
   "cell_type": "code",
   "execution_count": null,
   "id": "5145d926-94a9-412b-8881-eab65aa8da23",
   "metadata": {},
   "outputs": [],
   "source": [
    "#Use a function named delete() to delete sales data, product details, and product descriptions for Acer Aspire 3 whose product SKU is TYS56KFJW93NJ at once."
   ]
  },
  {
   "cell_type": "code",
   "execution_count": null,
   "id": "623862bc-146f-4e22-906f-af57efd49272",
   "metadata": {},
   "outputs": [],
   "source": [
    "def delete(sales_data, product_details, product_descriptions, main_folder):\n",
    "    \n",
    "    sku = input('Enter the product SKU to delete: ')\n",
    "\n",
    "    # Validate SKU existence\n",
    "    if sku not in sales_data:\n",
    "        print(f\"Product SKU '{sku}' not found.\")\n",
    "        return sales_data, product_details, product_descriptions\n",
    "\n",
    "    # Delete entries from dictionaries\n",
    "    del sales_data[sku]\n",
    "    del product_details[sku]\n",
    "    del product_descriptions[sku]\n",
    "    print(\"Enteries for SKU {sku} deleted successfully!\")\n",
    "\n",
    "    # Delete corresponding JSON and text fikes\n",
    "    json_file_path = os.path.join(main_folder, 'product_details', f'{sku}.json')\n",
    "    txt_file_path = os.path.join(main_folder, 'product_descriptions', f'{sku}.txt')\n",
    "\n",
    "    if os.path.exists(json_file_path):\n",
    "        os.remove(json_file_path)\n",
    "        print(f\"JSON file for SKU {sku} deleted successfully!\")\n",
    "    else:\n",
    "        print(f\"JSON file for SKU {sku} not found.\")\n",
    "\n",
    "    if os.path.exists(txt_file_path):\n",
    "        os.remove(txt_file_path)\n",
    "        print(f\"TXT file for SKU {sku} deleted successfully!\")\n",
    "    else:\n",
    "        print(f\"TXT file for SKU {sku} not found.\")\n",
    "\n",
    "    return sales_data, product_details, product_descriptions"
   ]
  },
  {
   "cell_type": "code",
   "execution_count": null,
   "id": "bf77b577-3862-465e-bf6a-92213ac617a8",
   "metadata": {},
   "outputs": [],
   "source": [
    "sales_data, product_details, product_descriptions = delete(sales_data, product_details, product_descriptions, main_folder_address)"
   ]
  }
 ],
 "metadata": {
  "kernelspec": {
   "display_name": "Python 3 (ipykernel)",
   "language": "python",
   "name": "python3"
  },
  "language_info": {
   "codemirror_mode": {
    "name": "ipython",
    "version": 3
   },
   "file_extension": ".py",
   "mimetype": "text/x-python",
   "name": "python",
   "nbconvert_exporter": "python",
   "pygments_lexer": "ipython3",
   "version": "3.11.4"
  }
 },
 "nbformat": 4,
 "nbformat_minor": 5
}
